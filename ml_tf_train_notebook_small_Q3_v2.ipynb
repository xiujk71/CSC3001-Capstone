{
 "cells": [
  {
   "cell_type": "code",
   "execution_count": 7,
   "metadata": {},
   "outputs": [
    {
     "name": "stdout",
     "output_type": "stream",
     "text": [
      "reading csv file\n",
      "          id  key_search  future_hits\n",
      "810000   570           0            0\n",
      "810001  2165           0            0\n",
      "810002   570           0            0\n",
      "810003   102           0            0\n",
      "810004  1932           0            0\n",
      "          id  key_search  future_hits\n",
      "891000  3803           0            0\n",
      "891001  1403           0            1\n",
      "891002  2970           0            0\n",
      "891003  2462           0            0\n",
      "891004  2246           0            0\n",
      "(9000, 2)\n"
     ]
    }
   ],
   "source": [
    "import pandas as pd\n",
    "import numpy as np\n",
    "import tensorflow as tf\n",
    "import pylab as plt\n",
    "\n",
    "# 10 class, categories at Q3\n",
    "\n",
    "# Loading csv files for training\n",
    "print(\"reading csv file\")\n",
    "csv = pd.read_csv('data_formatted_classified_simple_10_Q3.csv', index_col=0)\n",
    "\n",
    "pd_train_data = csv.iloc[810000:891000]\n",
    "pd_test_data = csv.iloc[891000:900000]\n",
    "benchmark_data = csv.iloc[900001:]\n",
    "\n",
    "print(pd_train_data.head())\n",
    "print(pd_test_data.head())\n",
    "\n",
    "pd_train_data_target = pd_train_data.pop(\"future_hits\") \n",
    "pd_test_data_target = pd_test_data.pop(\"future_hits\") \n",
    "\n",
    "pd_train_data = pd_train_data.to_numpy()\n",
    "pd_test_data = pd_test_data.to_numpy()\n",
    "\n",
    "print(np.shape(pd_test_data))\n",
    "\n",
    "def plot_history(history):\n",
    "  plt.plot(history.history['loss'])\n",
    "  plt.plot(history.history['val_loss'])\n",
    "  plt.ylabel('loss')\n",
    "  plt.xlabel('epoch')\n",
    "  plt.legend(['train', 'val'], loc='upper left')\n",
    "  plt.show()"
   ]
  },
  {
   "cell_type": "code",
   "execution_count": 8,
   "metadata": {},
   "outputs": [
    {
     "name": "stdout",
     "output_type": "stream",
     "text": [
      "Epoch 1/10\n",
      "WARNING:tensorflow:Model was constructed with shape (None, None, 2) for input KerasTensor(type_spec=TensorSpec(shape=(None, None, 2), dtype=tf.float32, name='dense_17_input'), name='dense_17_input', description=\"created by layer 'dense_17_input'\"), but it was called on an input with incompatible shape (100, 2).\n",
      "WARNING:tensorflow:Model was constructed with shape (None, None, 2) for input KerasTensor(type_spec=TensorSpec(shape=(None, None, 2), dtype=tf.float32, name='dense_17_input'), name='dense_17_input', description=\"created by layer 'dense_17_input'\"), but it was called on an input with incompatible shape (100, 2).\n",
      "785/810 [============================>.] - ETA: 0s - loss: 0.5833 - accuracy: 0.7443WARNING:tensorflow:Model was constructed with shape (None, None, 2) for input KerasTensor(type_spec=TensorSpec(shape=(None, None, 2), dtype=tf.float32, name='dense_17_input'), name='dense_17_input', description=\"created by layer 'dense_17_input'\"), but it was called on an input with incompatible shape (100, 2).\n",
      "810/810 [==============================] - 2s 2ms/step - loss: 0.5836 - accuracy: 0.7442 - val_loss: 0.5606 - val_accuracy: 0.7524\n",
      "Epoch 2/10\n",
      "810/810 [==============================] - 1s 2ms/step - loss: 0.5697 - accuracy: 0.7498 - val_loss: 0.5601 - val_accuracy: 0.7524\n",
      "Epoch 3/10\n",
      "810/810 [==============================] - 1s 2ms/step - loss: 0.5657 - accuracy: 0.7498 - val_loss: 0.5599 - val_accuracy: 0.7524\n",
      "Epoch 4/10\n",
      "810/810 [==============================] - 1s 2ms/step - loss: 0.5639 - accuracy: 0.7498 - val_loss: 0.5599 - val_accuracy: 0.7524\n",
      "Epoch 5/10\n",
      "810/810 [==============================] - 1s 2ms/step - loss: 0.5632 - accuracy: 0.7498 - val_loss: 0.5596 - val_accuracy: 0.7524\n",
      "Epoch 6/10\n",
      "810/810 [==============================] - 1s 2ms/step - loss: 0.5628 - accuracy: 0.7498 - val_loss: 0.5598 - val_accuracy: 0.7524\n",
      "Epoch 7/10\n",
      "810/810 [==============================] - 1s 2ms/step - loss: 0.5627 - accuracy: 0.7498 - val_loss: 0.5596 - val_accuracy: 0.7524\n",
      "Epoch 8/10\n",
      "810/810 [==============================] - 1s 2ms/step - loss: 0.5627 - accuracy: 0.7498 - val_loss: 0.5597 - val_accuracy: 0.7524\n",
      "Epoch 9/10\n",
      "810/810 [==============================] - 1s 2ms/step - loss: 0.5626 - accuracy: 0.7498 - val_loss: 0.5598 - val_accuracy: 0.7524\n",
      "Epoch 10/10\n",
      "810/810 [==============================] - 1s 2ms/step - loss: 0.5627 - accuracy: 0.7498 - val_loss: 0.5597 - val_accuracy: 0.7524\n"
     ]
    },
    {
     "data": {
      "image/png": "[encoded data removed]",
      "text/plain": [
       "<Figure size 432x288 with 1 Axes>"
      ]
     },
     "metadata": {
      "needs_background": "light"
     },
     "output_type": "display_data"
    }
   ],
   "source": [
    "def setup_FCN_1():\n",
    "\n",
    "    # Swquential Model is used.\n",
    "    model = tf.keras.Sequential()\n",
    "\n",
    "    # Consist of 4 Layers of nodes.\n",
    "    # First layer consist of 2 nodes, to receive 2 inputs\n",
    "    # Second layer consist of 12 nodes.\n",
    "    # Third layer consist of  12 nodes.\n",
    "    # Last Layer consist of 1 node, to output either 0 or 1\n",
    "    # We are using binary_crossentropy as the loss function, hence the last layer is setup that way.\n",
    "\n",
    "    model.add(tf.keras.layers.Dense(2, input_shape=(None, 2), activation='relu'))\n",
    "    model.add(tf.keras.layers.Dropout(0.25))\n",
    "    model.add(tf.keras.layers.Dense(4, activation='sigmoid'))\n",
    "    model.add(tf.keras.layers.Dropout(0.25))\n",
    "    model.add(tf.keras.layers.Dense(4, activation='sigmoid'))\n",
    "    model.add(tf.keras.layers.Dropout(0.25))\n",
    "    model.add(tf.keras.layers.Dense(4, activation='sigmoid'))\n",
    "    model.add(tf.keras.layers.Dropout(0.5))\n",
    "    model.add(tf.keras.layers.Dense(1, activation='sigmoid'))\n",
    "\n",
    "    # Compile the model using binary_crossentropy.\n",
    "    model.compile(optimizer='adam',\n",
    "                 loss='binary_crossentropy',\n",
    "                 metrics=['accuracy'])\n",
    "\n",
    "    # return the model after compilation\n",
    "    return model\n",
    "\n",
    "# Create and setting up the model using setup_FCN()\n",
    "model = setup_FCN_1()\n",
    "model.save('models/small_Q3_FCN1.h5')\n",
    "\n",
    "# Use model.fit to train it. As we have a very large dataset, we do not have to train it multiple times.\n",
    "history = model.fit(pd_train_data, pd_train_data_target, validation_data=(pd_test_data, pd_test_data_target), epochs=10, batch_size=100)\n",
    "\n",
    "plot_history(history)"
   ]
  },
  {
   "cell_type": "code",
   "execution_count": 9,
   "metadata": {},
   "outputs": [
    {
     "name": "stdout",
     "output_type": "stream",
     "text": [
      "Epoch 1/10\n",
      "WARNING:tensorflow:Model was constructed with shape (None, None, 2) for input KerasTensor(type_spec=TensorSpec(shape=(None, None, 2), dtype=tf.float32, name='dense_22_input'), name='dense_22_input', description=\"created by layer 'dense_22_input'\"), but it was called on an input with incompatible shape (100, 2).\n",
      "WARNING:tensorflow:Model was constructed with shape (None, None, 2) for input KerasTensor(type_spec=TensorSpec(shape=(None, None, 2), dtype=tf.float32, name='dense_22_input'), name='dense_22_input', description=\"created by layer 'dense_22_input'\"), but it was called on an input with incompatible shape (100, 2).\n",
      "781/810 [===========================>..] - ETA: 0s - loss: 0.5878 - accuracy: 0.7322WARNING:tensorflow:Model was constructed with shape (None, None, 2) for input KerasTensor(type_spec=TensorSpec(shape=(None, None, 2), dtype=tf.float32, name='dense_22_input'), name='dense_22_input', description=\"created by layer 'dense_22_input'\"), but it was called on an input with incompatible shape (100, 2).\n",
      "810/810 [==============================] - 2s 2ms/step - loss: 0.5872 - accuracy: 0.7329 - val_loss: 0.5604 - val_accuracy: 0.7524\n",
      "Epoch 2/10\n",
      "810/810 [==============================] - 1s 2ms/step - loss: 0.5699 - accuracy: 0.7498 - val_loss: 0.5600 - val_accuracy: 0.7524\n",
      "Epoch 3/10\n",
      "810/810 [==============================] - 1s 2ms/step - loss: 0.5667 - accuracy: 0.7498 - val_loss: 0.5598 - val_accuracy: 0.7524\n",
      "Epoch 4/10\n",
      "810/810 [==============================] - 1s 2ms/step - loss: 0.5646 - accuracy: 0.7498 - val_loss: 0.5598 - val_accuracy: 0.7524\n",
      "Epoch 5/10\n",
      "810/810 [==============================] - 1s 2ms/step - loss: 0.5636 - accuracy: 0.7498 - val_loss: 0.5600 - val_accuracy: 0.7524\n",
      "Epoch 6/10\n",
      "810/810 [==============================] - 1s 2ms/step - loss: 0.5631 - accuracy: 0.7498 - val_loss: 0.5599 - val_accuracy: 0.7524\n",
      "Epoch 7/10\n",
      "810/810 [==============================] - 1s 2ms/step - loss: 0.5629 - accuracy: 0.7498 - val_loss: 0.5597 - val_accuracy: 0.7524\n",
      "Epoch 8/10\n",
      "810/810 [==============================] - 1s 2ms/step - loss: 0.5628 - accuracy: 0.7498 - val_loss: 0.5597 - val_accuracy: 0.7524\n",
      "Epoch 9/10\n",
      "810/810 [==============================] - 1s 2ms/step - loss: 0.5629 - accuracy: 0.7498 - val_loss: 0.5598 - val_accuracy: 0.7524\n",
      "Epoch 10/10\n",
      "810/810 [==============================] - 1s 2ms/step - loss: 0.5627 - accuracy: 0.7498 - val_loss: 0.5598 - val_accuracy: 0.7524\n"
     ]
    },
    {
     "data": {
      "image/png": "[encoded data removed]",
      "text/plain": [
       "<Figure size 432x288 with 1 Axes>"
      ]
     },
     "metadata": {
      "needs_background": "light"
     },
     "output_type": "display_data"
    }
   ],
   "source": [
    "def setup_FCN_2():\n",
    "\n",
    "    # Swquential Model is used.\n",
    "    model = tf.keras.Sequential()\n",
    "\n",
    "    # Consist of 4 Layers of nodes.\n",
    "    # First layer consist of 2 nodes, to receive 2 inputs\n",
    "    # Second layer consist of 12 nodes.\n",
    "    # Third layer consist of  12 nodes.\n",
    "    # Last Layer consist of 1 node, to output either 0 or 1\n",
    "    # We are using binary_crossentropy as the loss function, hence the last layer is setup that way.\n",
    "\n",
    "    model.add(tf.keras.layers.Dense(2, input_shape=(None, 2), activation='relu'))\n",
    "    model.add(tf.keras.layers.Dropout(0.25))\n",
    "    model.add(tf.keras.layers.Dense(8, activation='sigmoid'))\n",
    "    model.add(tf.keras.layers.Dropout(0.25))\n",
    "    model.add(tf.keras.layers.Dense(8, activation='sigmoid'))\n",
    "    model.add(tf.keras.layers.Dropout(0.25))\n",
    "    model.add(tf.keras.layers.Dense(8, activation='sigmoid'))\n",
    "    model.add(tf.keras.layers.Dropout(0.5))\n",
    "    model.add(tf.keras.layers.Dense(1, activation='sigmoid'))\n",
    "\n",
    "    # Compile the model using binary_crossentropy.\n",
    "    model.compile(optimizer='adam',\n",
    "                 loss='binary_crossentropy',\n",
    "                 metrics=['accuracy'])\n",
    "\n",
    "    # return the model after compilation\n",
    "    return model\n",
    "\n",
    "# Create and setting up the model using setup_FCN()\n",
    "model = setup_FCN_2()\n",
    "model.save('models/small_Q3_FCN2.h5')\n",
    "\n",
    "# Use model.fit to train it. As we have a very large dataset, we do not have to train it multiple times.\n",
    "history = model.fit(pd_train_data, pd_train_data_target, validation_data=(pd_test_data, pd_test_data_target), epochs=10, batch_size=100)\n",
    "\n",
    "plot_history(history)"
   ]
  },
  {
   "cell_type": "code",
   "execution_count": 10,
   "metadata": {},
   "outputs": [
    {
     "name": "stdout",
     "output_type": "stream",
     "text": [
      "Epoch 1/10\n",
      "WARNING:tensorflow:Model was constructed with shape (None, None, 2) for input KerasTensor(type_spec=TensorSpec(shape=(None, None, 2), dtype=tf.float32, name='dense_27_input'), name='dense_27_input', description=\"created by layer 'dense_27_input'\"), but it was called on an input with incompatible shape (100, 2).\n",
      "WARNING:tensorflow:Model was constructed with shape (None, None, 2) for input KerasTensor(type_spec=TensorSpec(shape=(None, None, 2), dtype=tf.float32, name='dense_27_input'), name='dense_27_input', description=\"created by layer 'dense_27_input'\"), but it was called on an input with incompatible shape (100, 2).\n",
      "800/810 [============================>.] - ETA: 0s - loss: 0.6052 - accuracy: 0.7222WARNING:tensorflow:Model was constructed with shape (None, None, 2) for input KerasTensor(type_spec=TensorSpec(shape=(None, None, 2), dtype=tf.float32, name='dense_27_input'), name='dense_27_input', description=\"created by layer 'dense_27_input'\"), but it was called on an input with incompatible shape (100, 2).\n",
      "810/810 [==============================] - 2s 2ms/step - loss: 0.6049 - accuracy: 0.7224 - val_loss: 0.5596 - val_accuracy: 0.7524\n",
      "Epoch 2/10\n",
      "810/810 [==============================] - 1s 2ms/step - loss: 0.5708 - accuracy: 0.7496 - val_loss: 0.5598 - val_accuracy: 0.7524\n",
      "Epoch 3/10\n",
      "810/810 [==============================] - 1s 2ms/step - loss: 0.5660 - accuracy: 0.7498 - val_loss: 0.5600 - val_accuracy: 0.7524\n",
      "Epoch 4/10\n",
      "810/810 [==============================] - 2s 2ms/step - loss: 0.5649 - accuracy: 0.7498 - val_loss: 0.5597 - val_accuracy: 0.7524\n",
      "Epoch 5/10\n",
      "810/810 [==============================] - 1s 2ms/step - loss: 0.5643 - accuracy: 0.7498 - val_loss: 0.5596 - val_accuracy: 0.7524\n",
      "Epoch 6/10\n",
      "810/810 [==============================] - 1s 2ms/step - loss: 0.5638 - accuracy: 0.7498 - val_loss: 0.5599 - val_accuracy: 0.7524\n",
      "Epoch 7/10\n",
      "810/810 [==============================] - 1s 2ms/step - loss: 0.5635 - accuracy: 0.7498 - val_loss: 0.5599 - val_accuracy: 0.7524\n",
      "Epoch 8/10\n",
      "810/810 [==============================] - 1s 2ms/step - loss: 0.5638 - accuracy: 0.7498 - val_loss: 0.5597 - val_accuracy: 0.7524\n",
      "Epoch 9/10\n",
      "810/810 [==============================] - 1s 2ms/step - loss: 0.5634 - accuracy: 0.7498 - val_loss: 0.5598 - val_accuracy: 0.7524\n",
      "Epoch 10/10\n",
      "810/810 [==============================] - 1s 2ms/step - loss: 0.5635 - accuracy: 0.7498 - val_loss: 0.5600 - val_accuracy: 0.7524\n"
     ]
    },
    {
     "data": {
      "image/png": "[encoded data removed]",
      "text/plain": [
       "<Figure size 432x288 with 1 Axes>"
      ]
     },
     "metadata": {
      "needs_background": "light"
     },
     "output_type": "display_data"
    }
   ],
   "source": [
    "def setup_FCN_3():\n",
    "\n",
    "    # Swquential Model is used.\n",
    "    model = tf.keras.Sequential()\n",
    "\n",
    "    # Consist of 4 Layers of nodes.\n",
    "    # First layer consist of 2 nodes, to receive 2 inputs\n",
    "    # Second layer consist of 12 nodes.\n",
    "    # Third layer consist of  12 nodes.\n",
    "    # Last Layer consist of 1 node, to output either 0 or 1\n",
    "    # We are using binary_crossentropy as the loss function, hence the last layer is setup that way.\n",
    "\n",
    "    model.add(tf.keras.layers.Dense(2, input_shape=(None, 2), activation='relu'))\n",
    "    model.add(tf.keras.layers.Dropout(0.25))\n",
    "    model.add(tf.keras.layers.Dense(32, activation='sigmoid'))\n",
    "    model.add(tf.keras.layers.Dropout(0.5))\n",
    "    model.add(tf.keras.layers.Dense(1, activation='sigmoid'))\n",
    "\n",
    "    # Compile the model using binary_crossentropy.\n",
    "    model.compile(optimizer='adam',\n",
    "                 loss='binary_crossentropy',\n",
    "                 metrics=['accuracy'])\n",
    "\n",
    "    # return the model after compilation\n",
    "    return model\n",
    "\n",
    "# Create and setting up the model using setup_FCN()\n",
    "model = setup_FCN_3()\n",
    "model.save('models/small_Q3_FCN3.h5')\n",
    "\n",
    "# Use model.fit to train it. As we have a very large dataset, we do not have to train it multiple times.\n",
    "history = model.fit(pd_train_data, pd_train_data_target, validation_data=(pd_test_data, pd_test_data_target), epochs=10, batch_size=100)\n",
    "\n",
    "plot_history(history)"
   ]
  },
  {
   "cell_type": "code",
   "execution_count": 11,
   "metadata": {},
   "outputs": [
    {
     "name": "stdout",
     "output_type": "stream",
     "text": [
      "Epoch 1/10\n",
      "WARNING:tensorflow:Model was constructed with shape (None, None, 2) for input KerasTensor(type_spec=TensorSpec(shape=(None, None, 2), dtype=tf.float32, name='dense_30_input'), name='dense_30_input', description=\"created by layer 'dense_30_input'\"), but it was called on an input with incompatible shape (100, 2).\n",
      "WARNING:tensorflow:Model was constructed with shape (None, None, 2) for input KerasTensor(type_spec=TensorSpec(shape=(None, None, 2), dtype=tf.float32, name='dense_30_input'), name='dense_30_input', description=\"created by layer 'dense_30_input'\"), but it was called on an input with incompatible shape (100, 2).\n",
      "809/810 [============================>.] - ETA: 0s - loss: 0.5911 - accuracy: 0.7339WARNING:tensorflow:Model was constructed with shape (None, None, 2) for input KerasTensor(type_spec=TensorSpec(shape=(None, None, 2), dtype=tf.float32, name='dense_30_input'), name='dense_30_input', description=\"created by layer 'dense_30_input'\"), but it was called on an input with incompatible shape (100, 2).\n",
      "810/810 [==============================] - 2s 2ms/step - loss: 0.5910 - accuracy: 0.7339 - val_loss: 0.5608 - val_accuracy: 0.7524\n",
      "Epoch 2/10\n",
      "810/810 [==============================] - 1s 2ms/step - loss: 0.5699 - accuracy: 0.7497 - val_loss: 0.5600 - val_accuracy: 0.7524\n",
      "Epoch 3/10\n",
      "810/810 [==============================] - 1s 2ms/step - loss: 0.5661 - accuracy: 0.7498 - val_loss: 0.5598 - val_accuracy: 0.7524\n",
      "Epoch 4/10\n",
      "810/810 [==============================] - 1s 2ms/step - loss: 0.5647 - accuracy: 0.7498 - val_loss: 0.5596 - val_accuracy: 0.7524\n",
      "Epoch 5/10\n",
      "810/810 [==============================] - 1s 2ms/step - loss: 0.5636 - accuracy: 0.7498 - val_loss: 0.5597 - val_accuracy: 0.7524\n",
      "Epoch 6/10\n",
      "810/810 [==============================] - 1s 2ms/step - loss: 0.5635 - accuracy: 0.7498 - val_loss: 0.5596 - val_accuracy: 0.7524\n",
      "Epoch 7/10\n",
      "810/810 [==============================] - 1s 2ms/step - loss: 0.5632 - accuracy: 0.7498 - val_loss: 0.5596 - val_accuracy: 0.7524\n",
      "Epoch 8/10\n",
      "810/810 [==============================] - 1s 2ms/step - loss: 0.5631 - accuracy: 0.7498 - val_loss: 0.5596 - val_accuracy: 0.7524\n",
      "Epoch 9/10\n",
      "810/810 [==============================] - 1s 2ms/step - loss: 0.5628 - accuracy: 0.7498 - val_loss: 0.5597 - val_accuracy: 0.7524\n",
      "Epoch 10/10\n",
      "810/810 [==============================] - 1s 2ms/step - loss: 0.5628 - accuracy: 0.7498 - val_loss: 0.5597 - val_accuracy: 0.7524\n"
     ]
    },
    {
     "data": {
      "image/png": "[encoded data removed]",
      "text/plain": [
       "<Figure size 432x288 with 1 Axes>"
      ]
     },
     "metadata": {
      "needs_background": "light"
     },
     "output_type": "display_data"
    }
   ],
   "source": [
    "def setup_FCN_4():\n",
    "\n",
    "    # Swquential Model is used.\n",
    "    model = tf.keras.Sequential()\n",
    "\n",
    "    # Consist of 4 Layers of nodes.\n",
    "    # First layer consist of 2 nodes, to receive 2 inputs\n",
    "    # Second layer consist of 12 nodes.\n",
    "    # Third layer consist of  12 nodes.\n",
    "    # Last Layer consist of 1 node, to output either 0 or 1\n",
    "    # We are using binary_crossentropy as the loss function, hence the last layer is setup that way.\n",
    "\n",
    "    model.add(tf.keras.layers.Dense(2, input_shape=(None, 2), activation='relu'))\n",
    "    model.add(tf.keras.layers.Dropout(0.25))\n",
    "    model.add(tf.keras.layers.Dense(16, activation='sigmoid'))\n",
    "    model.add(tf.keras.layers.Dropout(0.25))\n",
    "    model.add(tf.keras.layers.Dense(16, activation='sigmoid'))\n",
    "    model.add(tf.keras.layers.Dropout(0.5))\n",
    "    model.add(tf.keras.layers.Dense(1, activation='sigmoid'))\n",
    "\n",
    "    # Compile the model using binary_crossentropy.\n",
    "    model.compile(optimizer='adam',\n",
    "                 loss='binary_crossentropy',\n",
    "                 metrics=['accuracy'])\n",
    "\n",
    "    # return the model after compilation\n",
    "    return model\n",
    "\n",
    "# Create and setting up the model using setup_FCN()\n",
    "model = setup_FCN_4()\n",
    "model.save('models/small_Q3_FCN4.h5')\n",
    "\n",
    "# Use model.fit to train it. As we have a very large dataset, we do not have to train it multiple times.\n",
    "history = model.fit(pd_train_data, pd_train_data_target, validation_data=(pd_test_data, pd_test_data_target), epochs=10, batch_size=100)\n",
    "\n",
    "plot_history(history)"
   ]
  },
  {
   "cell_type": "code",
   "execution_count": 12,
   "metadata": {},
   "outputs": [
    {
     "name": "stdout",
     "output_type": "stream",
     "text": [
      "WARNING:tensorflow:Model was constructed with shape (None, None, 2) for input KerasTensor(type_spec=TensorSpec(shape=(None, None, 2), dtype=tf.float32, name='dense_30_input'), name='dense_30_input', description=\"created by layer 'dense_30_input'\"), but it was called on an input with incompatible shape (None, 2).\n",
      "[[0.25182462]]\n"
     ]
    }
   ],
   "source": [
    "predict = model.predict(np.array([[65000, 0]]))\n",
    "print(predict)"
   ]
  }
 ],
 "metadata": {
  "kernelspec": {
   "display_name": "Python 3.8.10 64-bit",
   "language": "python",
   "name": "python3"
  },
  "language_info": {
   "codemirror_mode": {
    "name": "ipython",
    "version": 3
   },
   "file_extension": ".py",
   "mimetype": "text/x-python",
   "name": "python",
   "nbconvert_exporter": "python",
   "pygments_lexer": "ipython3",
   "version": "3.8.10"
  },
  "orig_nbformat": 4,
  "vscode": {
   "interpreter": {
    "hash": "916dbcbb3f70747c44a77c7bcd40155683ae19c65e1c03b4aa3499c5328201f1"
   }
  }
 },
 "nbformat": 4,
 "nbformat_minor": 2
}
