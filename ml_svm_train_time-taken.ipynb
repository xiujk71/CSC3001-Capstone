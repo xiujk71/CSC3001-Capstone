{
 "cells": [
  {
   "cell_type": "code",
   "execution_count": 1,
   "metadata": {},
   "outputs": [
    {
     "name": "stdout",
     "output_type": "stream",
     "text": [
      "reading csv file\n",
      "          id  key_search  future_hits\n",
      "810000   570           0            0\n",
      "810001  2165           0            0\n",
      "810002   570           0            0\n",
      "810003   102           0            0\n",
      "810004  1932           0            1\n",
      "90000\n",
      "90000\n"
     ]
    }
   ],
   "source": [
    "import pandas as pd\n",
    "import numpy as np\n",
    "from sklearn.svm import SVC\n",
    "from sklearn.preprocessing import StandardScaler\n",
    "from sklearn.model_selection import train_test_split\n",
    "from sklearn.metrics import accuracy_score\n",
    "from sklearn import datasets\n",
    "import time\n",
    "\n",
    "# tutorial https://vitalflux.com/svm-classifier-scikit-learn-code-examples/\n",
    "\n",
    "# Loading csv files for training\n",
    "print(\"reading csv file\")\n",
    "csv = pd.read_csv('data_formatted_classified_simple_10_IQR.csv', index_col=0)\n",
    "csv = csv.iloc[810000:900000]\n",
    "print(csv.head())\n",
    "target = csv.pop(\"future_hits\") \n",
    "print(len(csv))\n",
    "print(len(target))\n",
    " \n",
    "# Creating training and test split\n",
    "X_train, X_test, y_train, y_test = train_test_split(csv, target, test_size=0.3, random_state=1)\n",
    " \n",
    "# Feature Scaling\n",
    "sc = StandardScaler()\n",
    "sc.fit(X_train)\n",
    "X_train_std = sc.transform(X_train)\n",
    "X_test_std = sc.transform(X_test)"
   ]
  },
  {
   "cell_type": "code",
   "execution_count": 2,
   "metadata": {},
   "outputs": [
    {
     "name": "stdout",
     "output_type": "stream",
     "text": [
      "IQR_linear Time taken: 97 seconds\n",
      "IQR_poly Time taken: 680 seconds\n",
      "IQR_rbf Time taken: 162 seconds\n"
     ]
    }
   ],
   "source": [
    "# SVM Linear Kernel\n",
    "svm_linear = SVC(kernel= 'linear', random_state=1, C=0.1)\n",
    "startTime = time.perf_counter()\n",
    "svm_linear.fit(X_train_std, y_train)\n",
    "endTime = time.perf_counter()\n",
    "\n",
    "timeTaken = endTime - startTime\n",
    "print (\"IQR_linear Time taken: %i seconds\" % (int(timeTaken)))\n",
    "\n",
    "# SVM Poly Kernel\n",
    "svm_poly = SVC(kernel= 'poly', random_state=1, C=0.1)\n",
    "startTime = time.perf_counter()\n",
    "svm_poly.fit(X_train_std, y_train)\n",
    "endTime = time.perf_counter()\n",
    "\n",
    "timeTaken = endTime - startTime\n",
    "print (\"IQR_poly Time taken: %i seconds\" % (int(timeTaken)))\n",
    "\n",
    "# SVM RBF Kernel\n",
    "svm_rbf = SVC(kernel= 'rbf', random_state=1, C=0.1)\n",
    "startTime = time.perf_counter()\n",
    "svm_rbf.fit(X_train_std, y_train)\n",
    "endTime = time.perf_counter()\n",
    "\n",
    "timeTaken = endTime - startTime\n",
    "print (\"IQR_rbf Time taken: %i seconds\" % (int(timeTaken)))"
   ]
  },
  {
   "cell_type": "code",
   "execution_count": 3,
   "metadata": {},
   "outputs": [
    {
     "name": "stdout",
     "output_type": "stream",
     "text": [
      "reading csv file\n",
      "          id  key_search  future_hits\n",
      "810000   570           0            0\n",
      "810001  2165           0            0\n",
      "810002   570           0            1\n",
      "810003   102           0            0\n",
      "810004  1932           0            1\n",
      "90000\n",
      "90000\n"
     ]
    }
   ],
   "source": [
    "import pandas as pd\n",
    "import numpy as np\n",
    "from sklearn.svm import SVC\n",
    "from sklearn.preprocessing import StandardScaler\n",
    "from sklearn.model_selection import train_test_split\n",
    "from sklearn.metrics import accuracy_score\n",
    "from sklearn import datasets\n",
    "import time\n",
    "\n",
    "# tutorial https://vitalflux.com/svm-classifier-scikit-learn-code-examples/\n",
    "\n",
    "# Loading csv files for training\n",
    "print(\"reading csv file\")\n",
    "csv = pd.read_csv('data_formatted_classified_simple_10_Q1.csv', index_col=0)\n",
    "csv = csv.iloc[810000:900000]\n",
    "print(csv.head())\n",
    "target = csv.pop(\"future_hits\") \n",
    "print(len(csv))\n",
    "print(len(target))\n",
    " \n",
    "# Creating training and test split\n",
    "X_train, X_test, y_train, y_test = train_test_split(csv, target, test_size=0.3, random_state=1)\n",
    " \n",
    "# Feature Scaling\n",
    "sc = StandardScaler()\n",
    "sc.fit(X_train)\n",
    "X_train_std = sc.transform(X_train)\n",
    "X_test_std = sc.transform(X_test)"
   ]
  },
  {
   "cell_type": "code",
   "execution_count": 4,
   "metadata": {},
   "outputs": [
    {
     "name": "stdout",
     "output_type": "stream",
     "text": [
      "Q1_linear Time taken: 56 seconds\n",
      "Q1_poly Time taken: 1561 seconds\n",
      "Q1_rbf Time taken: 86 seconds\n"
     ]
    }
   ],
   "source": [
    "# SVM Linear Kernel\n",
    "svm_linear = SVC(kernel= 'linear', random_state=1, C=0.1)\n",
    "startTime = time.perf_counter()\n",
    "svm_linear.fit(X_train_std, y_train)\n",
    "endTime = time.perf_counter()\n",
    "\n",
    "timeTaken = endTime - startTime\n",
    "print (\"Q1_linear Time taken: %i seconds\" % (int(timeTaken)))\n",
    "\n",
    "# SVM Poly Kernel\n",
    "svm_poly = SVC(kernel= 'poly', random_state=1, C=0.1)\n",
    "startTime = time.perf_counter()\n",
    "svm_poly.fit(X_train_std, y_train)\n",
    "endTime = time.perf_counter()\n",
    "\n",
    "timeTaken = endTime - startTime\n",
    "print (\"Q1_poly Time taken: %i seconds\" % (int(timeTaken)))\n",
    "\n",
    "# SVM RBF Kernel\n",
    "svm_rbf = SVC(kernel= 'rbf', random_state=1, C=0.1)\n",
    "startTime = time.perf_counter()\n",
    "svm_rbf.fit(X_train_std, y_train)\n",
    "endTime = time.perf_counter()\n",
    "\n",
    "timeTaken = endTime - startTime\n",
    "print (\"Q1_rbf Time taken: %i seconds\" % (int(timeTaken)))"
   ]
  },
  {
   "cell_type": "code",
   "execution_count": 5,
   "metadata": {},
   "outputs": [
    {
     "name": "stdout",
     "output_type": "stream",
     "text": [
      "reading csv file\n",
      "          id  key_search  future_hits\n",
      "810000   570           0            0\n",
      "810001  2165           0            0\n",
      "810002   570           0            0\n",
      "810003   102           0            0\n",
      "810004  1932           0            0\n",
      "90000\n",
      "90000\n"
     ]
    }
   ],
   "source": [
    "import pandas as pd\n",
    "import numpy as np\n",
    "from sklearn.svm import SVC\n",
    "from sklearn.preprocessing import StandardScaler\n",
    "from sklearn.model_selection import train_test_split\n",
    "from sklearn.metrics import accuracy_score\n",
    "from sklearn import datasets\n",
    "import time\n",
    "\n",
    "# tutorial https://vitalflux.com/svm-classifier-scikit-learn-code-examples/\n",
    "\n",
    "# Loading csv files for training\n",
    "print(\"reading csv file\")\n",
    "csv = pd.read_csv('data_formatted_classified_simple_10_Q3.csv', index_col=0)\n",
    "csv = csv.iloc[810000:900000]\n",
    "print(csv.head())\n",
    "target = csv.pop(\"future_hits\") \n",
    "print(len(csv))\n",
    "print(len(target))\n",
    " \n",
    "# Creating training and test split\n",
    "X_train, X_test, y_train, y_test = train_test_split(csv, target, test_size=0.3, random_state=1)\n",
    " \n",
    "# Feature Scaling\n",
    "sc = StandardScaler()\n",
    "sc.fit(X_train)\n",
    "X_train_std = sc.transform(X_train)\n",
    "X_test_std = sc.transform(X_test)"
   ]
  },
  {
   "cell_type": "code",
   "execution_count": 6,
   "metadata": {},
   "outputs": [
    {
     "name": "stdout",
     "output_type": "stream",
     "text": [
      "Q3_linear Time taken: 53 seconds\n",
      "Q3_poly Time taken: 324 seconds\n",
      "Q3_rbf Time taken: 96 seconds\n"
     ]
    }
   ],
   "source": [
    "# SVM Linear Kernel\n",
    "svm_linear = SVC(kernel= 'linear', random_state=1, C=0.1)\n",
    "startTime = time.perf_counter()\n",
    "svm_linear.fit(X_train_std, y_train)\n",
    "endTime = time.perf_counter()\n",
    "\n",
    "timeTaken = endTime - startTime\n",
    "print (\"Q3_linear Time taken: %i seconds\" % (int(timeTaken)))\n",
    "\n",
    "# SVM Poly Kernel\n",
    "svm_poly = SVC(kernel= 'poly', random_state=1, C=0.1)\n",
    "startTime = time.perf_counter()\n",
    "svm_poly.fit(X_train_std, y_train)\n",
    "endTime = time.perf_counter()\n",
    "\n",
    "timeTaken = endTime - startTime\n",
    "print (\"Q3_poly Time taken: %i seconds\" % (int(timeTaken)))\n",
    "\n",
    "# SVM RBF Kernel\n",
    "svm_rbf = SVC(kernel= 'rbf', random_state=1, C=0.1)\n",
    "startTime = time.perf_counter()\n",
    "svm_rbf.fit(X_train_std, y_train)\n",
    "endTime = time.perf_counter()\n",
    "\n",
    "timeTaken = endTime - startTime\n",
    "print (\"Q3_rbf Time taken: %i seconds\" % (int(timeTaken)))"
   ]
  },
  {
   "cell_type": "code",
   "execution_count": 7,
   "metadata": {},
   "outputs": [
    {
     "name": "stdout",
     "output_type": "stream",
     "text": [
      "reading csv file\n",
      "          id  key_search  future_hits\n",
      "810000   570           0            0\n",
      "810001  2165           0            0\n",
      "810002   570           0            1\n",
      "810003   102           0            0\n",
      "810004  1932           0            6\n",
      "90000\n",
      "90000\n"
     ]
    }
   ],
   "source": [
    "import pandas as pd\n",
    "import numpy as np\n",
    "from sklearn.svm import SVC\n",
    "from sklearn.preprocessing import StandardScaler\n",
    "from sklearn.model_selection import train_test_split\n",
    "from sklearn.metrics import accuracy_score\n",
    "from sklearn import datasets\n",
    "\n",
    "# tutorial https://vitalflux.com/svm-classifier-scikit-learn-code-examples/\n",
    "\n",
    "# Loading csv files for training\n",
    "print(\"reading csv file\")\n",
    "csv = pd.read_csv('data_formatted_classified.csv', index_col=0)\n",
    "csv = csv.iloc[810000:900000]\n",
    "print(csv.head())\n",
    "target = csv.pop(\"future_hits\") \n",
    "print(len(csv))\n",
    "print(len(target))\n",
    " \n",
    "# Creating training and test split\n",
    "X_train, X_test, y_train, y_test = train_test_split(csv, target, test_size=0.3, random_state=1)\n",
    " \n",
    "# Feature Scaling\n",
    "sc = StandardScaler()\n",
    "sc.fit(X_train)\n",
    "X_train_std = sc.transform(X_train)\n",
    "X_test_std = sc.transform(X_test)"
   ]
  },
  {
   "cell_type": "code",
   "execution_count": 8,
   "metadata": {},
   "outputs": [
    {
     "name": "stdout",
     "output_type": "stream",
     "text": [
      "Class10_linear Time taken: 152 seconds\n",
      "Class10_poly Time taken: 479 seconds\n",
      "Class10_rbf Time taken: 211 seconds\n"
     ]
    }
   ],
   "source": [
    "# SVM Linear Kernel\n",
    "svm_linear = SVC(kernel= 'linear', random_state=1, C=0.1)\n",
    "startTime = time.perf_counter()\n",
    "svm_linear.fit(X_train_std, y_train)\n",
    "endTime = time.perf_counter()\n",
    "\n",
    "timeTaken = endTime - startTime\n",
    "print (\"Class10_linear Time taken: %i seconds\" % (int(timeTaken)))\n",
    "\n",
    "# SVM Poly Kernel\n",
    "svm_poly = SVC(kernel= 'poly', random_state=1, C=0.1)\n",
    "startTime = time.perf_counter()\n",
    "svm_poly.fit(X_train_std, y_train)\n",
    "endTime = time.perf_counter()\n",
    "\n",
    "timeTaken = endTime - startTime\n",
    "print (\"Class10_poly Time taken: %i seconds\" % (int(timeTaken)))\n",
    "\n",
    "# SVM RBF Kernel\n",
    "svm_rbf = SVC(kernel= 'rbf', random_state=1, C=0.1)\n",
    "startTime = time.perf_counter()\n",
    "svm_rbf.fit(X_train_std, y_train)\n",
    "endTime = time.perf_counter()\n",
    "\n",
    "timeTaken = endTime - startTime\n",
    "print (\"Class10_rbf Time taken: %i seconds\" % (int(timeTaken)))"
   ]
  }
 ],
 "metadata": {
  "kernelspec": {
   "display_name": "Python 3.8.10 64-bit",
   "language": "python",
   "name": "python3"
  },
  "language_info": {
   "codemirror_mode": {
    "name": "ipython",
    "version": 3
   },
   "file_extension": ".py",
   "mimetype": "text/x-python",
   "name": "python",
   "nbconvert_exporter": "python",
   "pygments_lexer": "ipython3",
   "version": "3.8.10"
  },
  "orig_nbformat": 4,
  "vscode": {
   "interpreter": {
    "hash": "916dbcbb3f70747c44a77c7bcd40155683ae19c65e1c03b4aa3499c5328201f1"
   }
  }
 },
 "nbformat": 4,
 "nbformat_minor": 2
}
