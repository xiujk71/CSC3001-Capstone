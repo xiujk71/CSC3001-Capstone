{
 "cells": [
  {
   "cell_type": "code",
   "execution_count": 1,
   "metadata": {},
   "outputs": [
    {
     "name": "stderr",
     "output_type": "stream",
     "text": [
      "2022-07-07 00:08:45.225668: W tensorflow/stream_executor/platform/default/dso_loader.cc:64] Could not load dynamic library 'libcudart.so.11.0'; dlerror: libcudart.so.11.0: cannot open shared object file: No such file or directory\n",
      "2022-07-07 00:08:45.225719: I tensorflow/stream_executor/cuda/cudart_stub.cc:29] Ignore above cudart dlerror if you do not have a GPU set up on your machine.\n"
     ]
    },
    {
     "name": "stdout",
     "output_type": "stream",
     "text": [
      "reading csv file\n",
      "   id  key_search  future_hits\n",
      "0   1           0            1\n",
      "1   2           0            1\n",
      "2   3           0            1\n",
      "3   4           0            1\n",
      "4   5           0            0\n",
      "          id  key_search  future_hits\n",
      "810000   570           0            0\n",
      "810001  2165           0            0\n",
      "810002   570           0            1\n",
      "810003   102           0            0\n",
      "810004  1932           0            1\n",
      "(90000, 2)\n"
     ]
    }
   ],
   "source": [
    "import pandas as pd\n",
    "import numpy as np\n",
    "import tensorflow as tf\n",
    "import pylab as plt\n",
    "\n",
    "# 10 class, categories at IQR\n",
    "\n",
    "# Loading csv files for training\n",
    "print(\"reading csv file\")\n",
    "csv = pd.read_csv('data_formatted_classified_simple_10_Q1.csv', index_col=0)\n",
    "\n",
    "pd_train_data = csv.iloc[:810000]\n",
    "pd_test_data = csv.iloc[810000:900000]\n",
    "benchmark_data = csv.iloc[900000:]\n",
    "\n",
    "print(pd_train_data.head())\n",
    "print(pd_test_data.head())\n",
    "\n",
    "pd_train_data_target = pd_train_data.pop(\"future_hits\") \n",
    "pd_test_data_target = pd_test_data.pop(\"future_hits\") \n",
    "\n",
    "pd_train_data = pd_train_data.to_numpy()\n",
    "pd_test_data = pd_test_data.to_numpy()\n",
    "\n",
    "print(np.shape(pd_test_data))\n",
    "\n",
    "def plot_history(history):\n",
    "  plt.plot(history.history['loss'])\n",
    "  plt.plot(history.history['val_loss'])\n",
    "  plt.ylabel('loss')\n",
    "  plt.xlabel('epoch')\n",
    "  plt.legend(['train', 'val'], loc='upper left')\n",
    "  plt.show()"
   ]
  },
  {
   "cell_type": "code",
   "execution_count": 2,
   "metadata": {},
   "outputs": [
    {
     "name": "stderr",
     "output_type": "stream",
     "text": [
      "2022-07-07 00:08:48.618598: I tensorflow/stream_executor/cuda/cuda_gpu_executor.cc:936] successful NUMA node read from SysFS had negative value (-1), but there must be at least one NUMA node, so returning NUMA node zero\n",
      "2022-07-07 00:08:48.618998: W tensorflow/stream_executor/platform/default/dso_loader.cc:64] Could not load dynamic library 'libcudart.so.11.0'; dlerror: libcudart.so.11.0: cannot open shared object file: No such file or directory\n",
      "2022-07-07 00:08:48.619141: W tensorflow/stream_executor/platform/default/dso_loader.cc:64] Could not load dynamic library 'libcublas.so.11'; dlerror: libcublas.so.11: cannot open shared object file: No such file or directory\n",
      "2022-07-07 00:08:48.619258: W tensorflow/stream_executor/platform/default/dso_loader.cc:64] Could not load dynamic library 'libcublasLt.so.11'; dlerror: libcublasLt.so.11: cannot open shared object file: No such file or directory\n",
      "2022-07-07 00:08:48.619377: W tensorflow/stream_executor/platform/default/dso_loader.cc:64] Could not load dynamic library 'libcufft.so.10'; dlerror: libcufft.so.10: cannot open shared object file: No such file or directory\n",
      "2022-07-07 00:08:48.619494: W tensorflow/stream_executor/platform/default/dso_loader.cc:64] Could not load dynamic library 'libcurand.so.10'; dlerror: libcurand.so.10: cannot open shared object file: No such file or directory\n",
      "2022-07-07 00:08:48.619607: W tensorflow/stream_executor/platform/default/dso_loader.cc:64] Could not load dynamic library 'libcusolver.so.11'; dlerror: libcusolver.so.11: cannot open shared object file: No such file or directory\n",
      "2022-07-07 00:08:48.619733: W tensorflow/stream_executor/platform/default/dso_loader.cc:64] Could not load dynamic library 'libcusparse.so.11'; dlerror: libcusparse.so.11: cannot open shared object file: No such file or directory\n",
      "2022-07-07 00:08:48.619853: W tensorflow/stream_executor/platform/default/dso_loader.cc:64] Could not load dynamic library 'libcudnn.so.8'; dlerror: libcudnn.so.8: cannot open shared object file: No such file or directory\n",
      "2022-07-07 00:08:48.619875: W tensorflow/core/common_runtime/gpu/gpu_device.cc:1850] Cannot dlopen some GPU libraries. Please make sure the missing libraries mentioned above are installed properly if you would like to use GPU. Follow the guide at https://www.tensorflow.org/install/gpu for how to download and setup the required libraries for your platform.\n",
      "Skipping registering GPU devices...\n",
      "2022-07-07 00:08:48.620690: I tensorflow/core/platform/cpu_feature_guard.cc:151] This TensorFlow binary is optimized with oneAPI Deep Neural Network Library (oneDNN) to use the following CPU instructions in performance-critical operations:  AVX2 FMA\n",
      "To enable them in other operations, rebuild TensorFlow with the appropriate compiler flags.\n"
     ]
    },
    {
     "name": "stdout",
     "output_type": "stream",
     "text": [
      "Epoch 1/10\n",
      "WARNING:tensorflow:Model was constructed with shape (None, None, 2) for input KerasTensor(type_spec=TensorSpec(shape=(None, None, 2), dtype=tf.float32, name='dense_input'), name='dense_input', description=\"created by layer 'dense_input'\"), but it was called on an input with incompatible shape (10, 2).\n",
      "WARNING:tensorflow:Model was constructed with shape (None, None, 2) for input KerasTensor(type_spec=TensorSpec(shape=(None, None, 2), dtype=tf.float32, name='dense_input'), name='dense_input', description=\"created by layer 'dense_input'\"), but it was called on an input with incompatible shape (10, 2).\n",
      "80988/81000 [============================>.] - ETA: 0s - loss: 0.5632 - accuracy: 0.7497WARNING:tensorflow:Model was constructed with shape (None, None, 2) for input KerasTensor(type_spec=TensorSpec(shape=(None, None, 2), dtype=tf.float32, name='dense_input'), name='dense_input', description=\"created by layer 'dense_input'\"), but it was called on an input with incompatible shape (10, 2).\n",
      "81000/81000 [==============================] - 134s 2ms/step - loss: 0.5632 - accuracy: 0.7497 - val_loss: 0.5635 - val_accuracy: 0.7490\n",
      "Epoch 2/10\n",
      "81000/81000 [==============================] - 133s 2ms/step - loss: 0.5623 - accuracy: 0.7501 - val_loss: 0.5635 - val_accuracy: 0.7490\n",
      "Epoch 3/10\n",
      "81000/81000 [==============================] - 136s 2ms/step - loss: 0.5623 - accuracy: 0.7501 - val_loss: 0.5635 - val_accuracy: 0.7490\n",
      "Epoch 4/10\n",
      "81000/81000 [==============================] - 133s 2ms/step - loss: 0.5623 - accuracy: 0.7501 - val_loss: 0.5635 - val_accuracy: 0.7490\n",
      "Epoch 5/10\n",
      "81000/81000 [==============================] - 134s 2ms/step - loss: 0.5623 - accuracy: 0.7501 - val_loss: 0.5634 - val_accuracy: 0.7490\n",
      "Epoch 6/10\n",
      "81000/81000 [==============================] - 136s 2ms/step - loss: 0.5623 - accuracy: 0.7501 - val_loss: 0.5634 - val_accuracy: 0.7490\n",
      "Epoch 7/10\n",
      "81000/81000 [==============================] - 146s 2ms/step - loss: 0.5623 - accuracy: 0.7501 - val_loss: 0.5635 - val_accuracy: 0.7490\n",
      "Epoch 8/10\n",
      "81000/81000 [==============================] - 131s 2ms/step - loss: 0.5623 - accuracy: 0.7501 - val_loss: 0.5636 - val_accuracy: 0.7490\n",
      "Epoch 9/10\n",
      "81000/81000 [==============================] - 132s 2ms/step - loss: 0.5623 - accuracy: 0.7501 - val_loss: 0.5634 - val_accuracy: 0.7490\n",
      "Epoch 10/10\n",
      "81000/81000 [==============================] - 131s 2ms/step - loss: 0.5623 - accuracy: 0.7501 - val_loss: 0.5635 - val_accuracy: 0.7490\n"
     ]
    },
    {
     "data": {
      "image/png": "[encoded data removed]",
      "text/plain": [
       "<Figure size 432x288 with 1 Axes>"
      ]
     },
     "metadata": {
      "needs_background": "light"
     },
     "output_type": "display_data"
    }
   ],
   "source": [
    "def setup_FCN_1():\n",
    "\n",
    "    # Swquential Model is used.\n",
    "    model = tf.keras.Sequential()\n",
    "\n",
    "    # Consist of 4 Layers of nodes.\n",
    "    # First layer consist of 2 nodes, to receive 2 inputs\n",
    "    # Second layer consist of 12 nodes.\n",
    "    # Third layer consist of  12 nodes.\n",
    "    # Last Layer consist of 1 node, to output either 0 or 1\n",
    "    # We are using binary_crossentropy as the loss function, hence the last layer is setup that way.\n",
    "\n",
    "    model.add(tf.keras.layers.Dense(2, input_shape=(None, 2), activation='relu'))\n",
    "    model.add(tf.keras.layers.Dropout(0.25))\n",
    "    model.add(tf.keras.layers.Dense(4, activation='sigmoid'))\n",
    "    model.add(tf.keras.layers.Dropout(0.25))\n",
    "    model.add(tf.keras.layers.Dense(4, activation='sigmoid'))\n",
    "    model.add(tf.keras.layers.Dropout(0.25))\n",
    "    model.add(tf.keras.layers.Dense(4, activation='sigmoid'))\n",
    "    model.add(tf.keras.layers.Dropout(0.5))\n",
    "    model.add(tf.keras.layers.Dense(1, activation='sigmoid'))\n",
    "\n",
    "    # Compile the model using binary_crossentropy.\n",
    "    model.compile(optimizer='adam',\n",
    "                 loss='binary_crossentropy',\n",
    "                 metrics=['accuracy'])\n",
    "\n",
    "    # return the model after compilation\n",
    "    return model\n",
    "\n",
    "# Create and setting up the model using setup_FCN()\n",
    "model = setup_FCN_1()\n",
    "\n",
    "# Use model.fit to train it. As we have a very large dataset, we do not have to train it multiple times.\n",
    "history = model.fit(pd_train_data, pd_train_data_target, validation_data=(pd_test_data, pd_test_data_target), epochs=10, batch_size=10)\n",
    "model.save('models/Q1_FCN1.h5')\n",
    "\n",
    "plot_history(history)"
   ]
  },
  {
   "cell_type": "code",
   "execution_count": 3,
   "metadata": {},
   "outputs": [
    {
     "name": "stdout",
     "output_type": "stream",
     "text": [
      "Epoch 1/10\n",
      "WARNING:tensorflow:Model was constructed with shape (None, None, 2) for input KerasTensor(type_spec=TensorSpec(shape=(None, None, 2), dtype=tf.float32, name='dense_5_input'), name='dense_5_input', description=\"created by layer 'dense_5_input'\"), but it was called on an input with incompatible shape (10, 2).\n",
      "WARNING:tensorflow:Model was constructed with shape (None, None, 2) for input KerasTensor(type_spec=TensorSpec(shape=(None, None, 2), dtype=tf.float32, name='dense_5_input'), name='dense_5_input', description=\"created by layer 'dense_5_input'\"), but it was called on an input with incompatible shape (10, 2).\n",
      "80968/81000 [============================>.] - ETA: 0s - loss: 0.5637 - accuracy: 0.7491WARNING:tensorflow:Model was constructed with shape (None, None, 2) for input KerasTensor(type_spec=TensorSpec(shape=(None, None, 2), dtype=tf.float32, name='dense_5_input'), name='dense_5_input', description=\"created by layer 'dense_5_input'\"), but it was called on an input with incompatible shape (10, 2).\n",
      "81000/81000 [==============================] - 129s 2ms/step - loss: 0.5637 - accuracy: 0.7491 - val_loss: 0.5635 - val_accuracy: 0.7490\n",
      "Epoch 2/10\n",
      "81000/81000 [==============================] - 128s 2ms/step - loss: 0.5623 - accuracy: 0.7501 - val_loss: 0.5634 - val_accuracy: 0.7490\n",
      "Epoch 3/10\n",
      "81000/81000 [==============================] - 127s 2ms/step - loss: 0.5623 - accuracy: 0.7501 - val_loss: 0.5634 - val_accuracy: 0.7490\n",
      "Epoch 4/10\n",
      "81000/81000 [==============================] - 127s 2ms/step - loss: 0.5623 - accuracy: 0.7501 - val_loss: 0.5635 - val_accuracy: 0.7490\n",
      "Epoch 5/10\n",
      "81000/81000 [==============================] - 126s 2ms/step - loss: 0.5623 - accuracy: 0.7501 - val_loss: 0.5635 - val_accuracy: 0.7490\n",
      "Epoch 6/10\n",
      "81000/81000 [==============================] - 126s 2ms/step - loss: 0.5623 - accuracy: 0.7501 - val_loss: 0.5634 - val_accuracy: 0.7490\n",
      "Epoch 7/10\n",
      "81000/81000 [==============================] - 126s 2ms/step - loss: 0.5623 - accuracy: 0.7501 - val_loss: 0.5635 - val_accuracy: 0.7490\n",
      "Epoch 8/10\n",
      "81000/81000 [==============================] - 126s 2ms/step - loss: 0.5623 - accuracy: 0.7501 - val_loss: 0.5634 - val_accuracy: 0.7490\n",
      "Epoch 9/10\n",
      "81000/81000 [==============================] - 126s 2ms/step - loss: 0.5623 - accuracy: 0.7501 - val_loss: 0.5635 - val_accuracy: 0.7490\n",
      "Epoch 10/10\n",
      "81000/81000 [==============================] - 126s 2ms/step - loss: 0.5623 - accuracy: 0.7501 - val_loss: 0.5635 - val_accuracy: 0.7490\n"
     ]
    },
    {
     "data": {
      "image/png": "[encoded data removed]",
      "text/plain": [
       "<Figure size 432x288 with 1 Axes>"
      ]
     },
     "metadata": {
      "needs_background": "light"
     },
     "output_type": "display_data"
    }
   ],
   "source": [
    "def setup_FCN_2():\n",
    "\n",
    "    # Swquential Model is used.\n",
    "    model = tf.keras.Sequential()\n",
    "\n",
    "    # Consist of 4 Layers of nodes.\n",
    "    # First layer consist of 2 nodes, to receive 2 inputs\n",
    "    # Second layer consist of 12 nodes.\n",
    "    # Third layer consist of  12 nodes.\n",
    "    # Last Layer consist of 1 node, to output either 0 or 1\n",
    "    # We are using binary_crossentropy as the loss function, hence the last layer is setup that way.\n",
    "\n",
    "    model.add(tf.keras.layers.Dense(2, input_shape=(None, 2), activation='relu'))\n",
    "    model.add(tf.keras.layers.Dropout(0.25))\n",
    "    model.add(tf.keras.layers.Dense(8, activation='sigmoid'))\n",
    "    model.add(tf.keras.layers.Dropout(0.25))\n",
    "    model.add(tf.keras.layers.Dense(8, activation='sigmoid'))\n",
    "    model.add(tf.keras.layers.Dropout(0.25))\n",
    "    model.add(tf.keras.layers.Dense(8, activation='sigmoid'))\n",
    "    model.add(tf.keras.layers.Dropout(0.5))\n",
    "    model.add(tf.keras.layers.Dense(1, activation='sigmoid'))\n",
    "\n",
    "    # Compile the model using binary_crossentropy.\n",
    "    model.compile(optimizer='adam',\n",
    "                 loss='binary_crossentropy',\n",
    "                 metrics=['accuracy'])\n",
    "\n",
    "    # return the model after compilation\n",
    "    return model\n",
    "\n",
    "# Create and setting up the model using setup_FCN()\n",
    "model = setup_FCN_2()\n",
    "\n",
    "# Use model.fit to train it. As we have a very large dataset, we do not have to train it multiple times.\n",
    "history = model.fit(pd_train_data, pd_train_data_target, validation_data=(pd_test_data, pd_test_data_target), epochs=10, batch_size=10)\n",
    "model.save('models/Q1_FCN2.h5')\n",
    "\n",
    "plot_history(history)"
   ]
  },
  {
   "cell_type": "code",
   "execution_count": 4,
   "metadata": {},
   "outputs": [
    {
     "name": "stdout",
     "output_type": "stream",
     "text": [
      "Epoch 1/10\n",
      "WARNING:tensorflow:Model was constructed with shape (None, None, 2) for input KerasTensor(type_spec=TensorSpec(shape=(None, None, 2), dtype=tf.float32, name='dense_10_input'), name='dense_10_input', description=\"created by layer 'dense_10_input'\"), but it was called on an input with incompatible shape (10, 2).\n",
      "WARNING:tensorflow:Model was constructed with shape (None, None, 2) for input KerasTensor(type_spec=TensorSpec(shape=(None, None, 2), dtype=tf.float32, name='dense_10_input'), name='dense_10_input', description=\"created by layer 'dense_10_input'\"), but it was called on an input with incompatible shape (10, 2).\n",
      "80979/81000 [============================>.] - ETA: 0s - loss: 0.5643 - accuracy: 0.7497WARNING:tensorflow:Model was constructed with shape (None, None, 2) for input KerasTensor(type_spec=TensorSpec(shape=(None, None, 2), dtype=tf.float32, name='dense_10_input'), name='dense_10_input', description=\"created by layer 'dense_10_input'\"), but it was called on an input with incompatible shape (10, 2).\n",
      "81000/81000 [==============================] - 116s 1ms/step - loss: 0.5643 - accuracy: 0.7497 - val_loss: 0.5636 - val_accuracy: 0.7490\n",
      "Epoch 2/10\n",
      "81000/81000 [==============================] - 110s 1ms/step - loss: 0.5630 - accuracy: 0.7501 - val_loss: 0.5635 - val_accuracy: 0.7490\n",
      "Epoch 3/10\n",
      "81000/81000 [==============================] - 109s 1ms/step - loss: 0.5625 - accuracy: 0.7501 - val_loss: 0.5635 - val_accuracy: 0.7490\n",
      "Epoch 4/10\n",
      "81000/81000 [==============================] - 109s 1ms/step - loss: 0.5624 - accuracy: 0.7501 - val_loss: 0.5635 - val_accuracy: 0.7490\n",
      "Epoch 5/10\n",
      "81000/81000 [==============================] - 109s 1ms/step - loss: 0.5623 - accuracy: 0.7501 - val_loss: 0.5635 - val_accuracy: 0.7490\n",
      "Epoch 6/10\n",
      "81000/81000 [==============================] - 125s 2ms/step - loss: 0.5623 - accuracy: 0.7501 - val_loss: 0.5635 - val_accuracy: 0.7490\n",
      "Epoch 7/10\n",
      "81000/81000 [==============================] - 130s 2ms/step - loss: 0.5623 - accuracy: 0.7501 - val_loss: 0.5637 - val_accuracy: 0.7490\n",
      "Epoch 8/10\n",
      "81000/81000 [==============================] - 143s 2ms/step - loss: 0.5623 - accuracy: 0.7501 - val_loss: 0.5636 - val_accuracy: 0.7490\n",
      "Epoch 9/10\n",
      "81000/81000 [==============================] - 139s 2ms/step - loss: 0.5623 - accuracy: 0.7501 - val_loss: 0.5635 - val_accuracy: 0.7490\n",
      "Epoch 10/10\n",
      "81000/81000 [==============================] - 132s 2ms/step - loss: 0.5623 - accuracy: 0.7501 - val_loss: 0.5635 - val_accuracy: 0.7490\n"
     ]
    },
    {
     "data": {
      "image/png": "[encoded data removed]",
      "text/plain": [
       "<Figure size 432x288 with 1 Axes>"
      ]
     },
     "metadata": {
      "needs_background": "light"
     },
     "output_type": "display_data"
    }
   ],
   "source": [
    "def setup_FCN_3():\n",
    "\n",
    "    # Swquential Model is used.\n",
    "    model = tf.keras.Sequential()\n",
    "\n",
    "    # Consist of 4 Layers of nodes.\n",
    "    # First layer consist of 2 nodes, to receive 2 inputs\n",
    "    # Second layer consist of 12 nodes.\n",
    "    # Third layer consist of  12 nodes.\n",
    "    # Last Layer consist of 1 node, to output either 0 or 1\n",
    "    # We are using binary_crossentropy as the loss function, hence the last layer is setup that way.\n",
    "\n",
    "    model.add(tf.keras.layers.Dense(2, input_shape=(None, 2), activation='relu'))\n",
    "    model.add(tf.keras.layers.Dropout(0.25))\n",
    "    model.add(tf.keras.layers.Dense(32, activation='sigmoid'))\n",
    "    model.add(tf.keras.layers.Dropout(0.5))\n",
    "    model.add(tf.keras.layers.Dense(1, activation='sigmoid'))\n",
    "\n",
    "    # Compile the model using binary_crossentropy.\n",
    "    model.compile(optimizer='adam',\n",
    "                 loss='binary_crossentropy',\n",
    "                 metrics=['accuracy'])\n",
    "\n",
    "    # return the model after compilation\n",
    "    return model\n",
    "\n",
    "# Create and setting up the model using setup_FCN()\n",
    "model = setup_FCN_3()\n",
    "\n",
    "# Use model.fit to train it. As we have a very large dataset, we do not have to train it multiple times.\n",
    "history = model.fit(pd_train_data, pd_train_data_target, validation_data=(pd_test_data, pd_test_data_target), epochs=10, batch_size=10)\n",
    "model.save('models/Q1_FCN3.h5')\n",
    "\n",
    "plot_history(history)"
   ]
  },
  {
   "cell_type": "code",
   "execution_count": 5,
   "metadata": {},
   "outputs": [
    {
     "name": "stdout",
     "output_type": "stream",
     "text": [
      "Epoch 1/10\n",
      "WARNING:tensorflow:Model was constructed with shape (None, None, 2) for input KerasTensor(type_spec=TensorSpec(shape=(None, None, 2), dtype=tf.float32, name='dense_13_input'), name='dense_13_input', description=\"created by layer 'dense_13_input'\"), but it was called on an input with incompatible shape (10, 2).\n",
      "WARNING:tensorflow:Model was constructed with shape (None, None, 2) for input KerasTensor(type_spec=TensorSpec(shape=(None, None, 2), dtype=tf.float32, name='dense_13_input'), name='dense_13_input', description=\"created by layer 'dense_13_input'\"), but it was called on an input with incompatible shape (10, 2).\n",
      "80986/81000 [============================>.] - ETA: 0s - loss: 0.5634 - accuracy: 0.7498WARNING:tensorflow:Model was constructed with shape (None, None, 2) for input KerasTensor(type_spec=TensorSpec(shape=(None, None, 2), dtype=tf.float32, name='dense_13_input'), name='dense_13_input', description=\"created by layer 'dense_13_input'\"), but it was called on an input with incompatible shape (10, 2).\n",
      "81000/81000 [==============================] - 139s 2ms/step - loss: 0.5634 - accuracy: 0.7498 - val_loss: 0.5635 - val_accuracy: 0.7490\n",
      "Epoch 2/10\n",
      "81000/81000 [==============================] - 147s 2ms/step - loss: 0.5623 - accuracy: 0.7501 - val_loss: 0.5638 - val_accuracy: 0.7490\n",
      "Epoch 3/10\n",
      "81000/81000 [==============================] - 127s 2ms/step - loss: 0.5623 - accuracy: 0.7501 - val_loss: 0.5635 - val_accuracy: 0.7490\n",
      "Epoch 4/10\n",
      "81000/81000 [==============================] - 139s 2ms/step - loss: 0.5623 - accuracy: 0.7501 - val_loss: 0.5634 - val_accuracy: 0.7490\n",
      "Epoch 5/10\n",
      "81000/81000 [==============================] - 128s 2ms/step - loss: 0.5623 - accuracy: 0.7501 - val_loss: 0.5634 - val_accuracy: 0.7490\n",
      "Epoch 6/10\n",
      "81000/81000 [==============================] - 131s 2ms/step - loss: 0.5623 - accuracy: 0.7501 - val_loss: 0.5634 - val_accuracy: 0.7490\n",
      "Epoch 7/10\n",
      "81000/81000 [==============================] - 129s 2ms/step - loss: 0.5623 - accuracy: 0.7501 - val_loss: 0.5634 - val_accuracy: 0.7490\n",
      "Epoch 8/10\n",
      "81000/81000 [==============================] - 133s 2ms/step - loss: 0.5623 - accuracy: 0.7501 - val_loss: 0.5635 - val_accuracy: 0.7490\n",
      "Epoch 9/10\n",
      "81000/81000 [==============================] - 135s 2ms/step - loss: 0.5623 - accuracy: 0.7501 - val_loss: 0.5634 - val_accuracy: 0.7490\n",
      "Epoch 10/10\n",
      "81000/81000 [==============================] - 134s 2ms/step - loss: 0.5623 - accuracy: 0.7501 - val_loss: 0.5635 - val_accuracy: 0.7490\n"
     ]
    },
    {
     "data": {
      "image/png": "[encoded data removed]",
      "text/plain": [
       "<Figure size 432x288 with 1 Axes>"
      ]
     },
     "metadata": {
      "needs_background": "light"
     },
     "output_type": "display_data"
    }
   ],
   "source": [
    "def setup_FCN_4():\n",
    "\n",
    "    # Swquential Model is used.\n",
    "    model = tf.keras.Sequential()\n",
    "\n",
    "    # Consist of 4 Layers of nodes.\n",
    "    # First layer consist of 2 nodes, to receive 2 inputs\n",
    "    # Second layer consist of 12 nodes.\n",
    "    # Third layer consist of  12 nodes.\n",
    "    # Last Layer consist of 1 node, to output either 0 or 1\n",
    "    # We are using binary_crossentropy as the loss function, hence the last layer is setup that way.\n",
    "\n",
    "    model.add(tf.keras.layers.Dense(2, input_shape=(None, 2), activation='relu'))\n",
    "    model.add(tf.keras.layers.Dropout(0.25))\n",
    "    model.add(tf.keras.layers.Dense(16, activation='sigmoid'))\n",
    "    model.add(tf.keras.layers.Dropout(0.25))\n",
    "    model.add(tf.keras.layers.Dense(16, activation='sigmoid'))\n",
    "    model.add(tf.keras.layers.Dropout(0.5))\n",
    "    model.add(tf.keras.layers.Dense(1, activation='sigmoid'))\n",
    "\n",
    "    # Compile the model using binary_crossentropy.\n",
    "    model.compile(optimizer='adam',\n",
    "                 loss='binary_crossentropy',\n",
    "                 metrics=['accuracy'])\n",
    "\n",
    "    # return the model after compilation\n",
    "    return model\n",
    "\n",
    "# Create and setting up the model using setup_FCN()\n",
    "model = setup_FCN_4()\n",
    "\n",
    "# Use model.fit to train it. As we have a very large dataset, we do not have to train it multiple times.\n",
    "history = model.fit(pd_train_data, pd_train_data_target, validation_data=(pd_test_data, pd_test_data_target), epochs=10, batch_size=10)\n",
    "model.save('models/Q1_FCN4.h5')\n",
    "\n",
    "plot_history(history)"
   ]
  },
  {
   "cell_type": "code",
   "execution_count": 6,
   "metadata": {},
   "outputs": [
    {
     "name": "stdout",
     "output_type": "stream",
     "text": [
      "WARNING:tensorflow:Model was constructed with shape (None, None, 2) for input KerasTensor(type_spec=TensorSpec(shape=(None, None, 2), dtype=tf.float32, name='dense_13_input'), name='dense_13_input', description=\"created by layer 'dense_13_input'\"), but it was called on an input with incompatible shape (None, 2).\n",
      "[[0.7521031]]\n"
     ]
    }
   ],
   "source": [
    "predict = model.predict(np.array([[65000, 0]]))\n",
    "print(predict)"
   ]
  }
 ],
 "metadata": {
  "kernelspec": {
   "display_name": "Python 3.8.10 64-bit",
   "language": "python",
   "name": "python3"
  },
  "language_info": {
   "codemirror_mode": {
    "name": "ipython",
    "version": 3
   },
   "file_extension": ".py",
   "mimetype": "text/x-python",
   "name": "python",
   "nbconvert_exporter": "python",
   "pygments_lexer": "ipython3",
   "version": "3.8.10"
  },
  "orig_nbformat": 4,
  "vscode": {
   "interpreter": {
    "hash": "916dbcbb3f70747c44a77c7bcd40155683ae19c65e1c03b4aa3499c5328201f1"
   }
  }
 },
 "nbformat": 4,
 "nbformat_minor": 2
}
