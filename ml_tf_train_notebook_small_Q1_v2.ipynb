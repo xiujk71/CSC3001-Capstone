{
 "cells": [
  {
   "cell_type": "code",
   "execution_count": 1,
   "metadata": {},
   "outputs": [
    {
     "name": "stderr",
     "output_type": "stream",
     "text": [
      "2022-07-07 01:40:38.978761: W tensorflow/stream_executor/platform/default/dso_loader.cc:64] Could not load dynamic library 'libcudart.so.11.0'; dlerror: libcudart.so.11.0: cannot open shared object file: No such file or directory\n",
      "2022-07-07 01:40:38.978791: I tensorflow/stream_executor/cuda/cudart_stub.cc:29] Ignore above cudart dlerror if you do not have a GPU set up on your machine.\n"
     ]
    },
    {
     "name": "stdout",
     "output_type": "stream",
     "text": [
      "reading csv file\n",
      "          id  key_search  future_hits\n",
      "810000   570           0            0\n",
      "810001  2165           0            0\n",
      "810002   570           0            1\n",
      "810003   102           0            0\n",
      "810004  1932           0            1\n",
      "          id  key_search  future_hits\n",
      "891000  3803           0            0\n",
      "891001  1403           0            1\n",
      "891002  2970           0            0\n",
      "891003  2462           0            0\n",
      "891004  2246           0            0\n",
      "(9000, 2)\n"
     ]
    }
   ],
   "source": [
    "import pandas as pd\n",
    "import numpy as np\n",
    "import tensorflow as tf\n",
    "import pylab as plt\n",
    "\n",
    "# 10 class, categories at Q1\n",
    "\n",
    "# Loading csv files for training\n",
    "print(\"reading csv file\")\n",
    "csv = pd.read_csv('data_formatted_classified_simple_10_Q1.csv', index_col=0)\n",
    "\n",
    "pd_train_data = csv.iloc[810000:891000]\n",
    "pd_test_data = csv.iloc[891000:900000]\n",
    "benchmark_data = csv.iloc[900001:]\n",
    "\n",
    "print(pd_train_data.head())\n",
    "print(pd_test_data.head())\n",
    "\n",
    "pd_train_data_target = pd_train_data.pop(\"future_hits\") \n",
    "pd_test_data_target = pd_test_data.pop(\"future_hits\") \n",
    "\n",
    "pd_train_data = pd_train_data.to_numpy()\n",
    "pd_test_data = pd_test_data.to_numpy()\n",
    "\n",
    "print(np.shape(pd_test_data))\n",
    "\n",
    "def plot_history(history):\n",
    "  plt.plot(history.history['loss'])\n",
    "  plt.plot(history.history['val_loss'])\n",
    "  plt.ylabel('loss')\n",
    "  plt.xlabel('epoch')\n",
    "  plt.legend(['train', 'val'], loc='upper left')\n",
    "  plt.show()"
   ]
  },
  {
   "cell_type": "code",
   "execution_count": 2,
   "metadata": {},
   "outputs": [
    {
     "name": "stderr",
     "output_type": "stream",
     "text": [
      "2022-07-07 01:40:42.479901: I tensorflow/stream_executor/cuda/cuda_gpu_executor.cc:936] successful NUMA node read from SysFS had negative value (-1), but there must be at least one NUMA node, so returning NUMA node zero\n",
      "2022-07-07 01:40:42.480331: W tensorflow/stream_executor/platform/default/dso_loader.cc:64] Could not load dynamic library 'libcudart.so.11.0'; dlerror: libcudart.so.11.0: cannot open shared object file: No such file or directory\n",
      "2022-07-07 01:40:42.480493: W tensorflow/stream_executor/platform/default/dso_loader.cc:64] Could not load dynamic library 'libcublas.so.11'; dlerror: libcublas.so.11: cannot open shared object file: No such file or directory\n",
      "2022-07-07 01:40:42.480635: W tensorflow/stream_executor/platform/default/dso_loader.cc:64] Could not load dynamic library 'libcublasLt.so.11'; dlerror: libcublasLt.so.11: cannot open shared object file: No such file or directory\n",
      "2022-07-07 01:40:42.480771: W tensorflow/stream_executor/platform/default/dso_loader.cc:64] Could not load dynamic library 'libcufft.so.10'; dlerror: libcufft.so.10: cannot open shared object file: No such file or directory\n",
      "2022-07-07 01:40:42.480906: W tensorflow/stream_executor/platform/default/dso_loader.cc:64] Could not load dynamic library 'libcurand.so.10'; dlerror: libcurand.so.10: cannot open shared object file: No such file or directory\n",
      "2022-07-07 01:40:42.481040: W tensorflow/stream_executor/platform/default/dso_loader.cc:64] Could not load dynamic library 'libcusolver.so.11'; dlerror: libcusolver.so.11: cannot open shared object file: No such file or directory\n",
      "2022-07-07 01:40:42.481194: W tensorflow/stream_executor/platform/default/dso_loader.cc:64] Could not load dynamic library 'libcusparse.so.11'; dlerror: libcusparse.so.11: cannot open shared object file: No such file or directory\n",
      "2022-07-07 01:40:42.481340: W tensorflow/stream_executor/platform/default/dso_loader.cc:64] Could not load dynamic library 'libcudnn.so.8'; dlerror: libcudnn.so.8: cannot open shared object file: No such file or directory\n",
      "2022-07-07 01:40:42.481362: W tensorflow/core/common_runtime/gpu/gpu_device.cc:1850] Cannot dlopen some GPU libraries. Please make sure the missing libraries mentioned above are installed properly if you would like to use GPU. Follow the guide at https://www.tensorflow.org/install/gpu for how to download and setup the required libraries for your platform.\n",
      "Skipping registering GPU devices...\n",
      "2022-07-07 01:40:42.481915: I tensorflow/core/platform/cpu_feature_guard.cc:151] This TensorFlow binary is optimized with oneAPI Deep Neural Network Library (oneDNN) to use the following CPU instructions in performance-critical operations:  AVX2 FMA\n",
      "To enable them in other operations, rebuild TensorFlow with the appropriate compiler flags.\n"
     ]
    },
    {
     "name": "stdout",
     "output_type": "stream",
     "text": [
      "Epoch 1/10\n",
      "WARNING:tensorflow:Model was constructed with shape (None, None, 2) for input KerasTensor(type_spec=TensorSpec(shape=(None, None, 2), dtype=tf.float32, name='dense_input'), name='dense_input', description=\"created by layer 'dense_input'\"), but it was called on an input with incompatible shape (100, 2).\n",
      "WARNING:tensorflow:Model was constructed with shape (None, None, 2) for input KerasTensor(type_spec=TensorSpec(shape=(None, None, 2), dtype=tf.float32, name='dense_input'), name='dense_input', description=\"created by layer 'dense_input'\"), but it was called on an input with incompatible shape (100, 2).\n",
      "791/810 [============================>.] - ETA: 0s - loss: 0.6065 - accuracy: 0.7134WARNING:tensorflow:Model was constructed with shape (None, None, 2) for input KerasTensor(type_spec=TensorSpec(shape=(None, None, 2), dtype=tf.float32, name='dense_input'), name='dense_input', description=\"created by layer 'dense_input'\"), but it was called on an input with incompatible shape (100, 2).\n",
      "810/810 [==============================] - 2s 2ms/step - loss: 0.6055 - accuracy: 0.7145 - val_loss: 0.5673 - val_accuracy: 0.7462\n",
      "Epoch 2/10\n",
      "810/810 [==============================] - 1s 2ms/step - loss: 0.5737 - accuracy: 0.7492 - val_loss: 0.5666 - val_accuracy: 0.7462\n",
      "Epoch 3/10\n",
      "810/810 [==============================] - 1s 2ms/step - loss: 0.5675 - accuracy: 0.7493 - val_loss: 0.5665 - val_accuracy: 0.7462\n",
      "Epoch 4/10\n",
      "810/810 [==============================] - 1s 2ms/step - loss: 0.5647 - accuracy: 0.7493 - val_loss: 0.5664 - val_accuracy: 0.7462\n",
      "Epoch 5/10\n",
      "810/810 [==============================] - 1s 2ms/step - loss: 0.5639 - accuracy: 0.7493 - val_loss: 0.5664 - val_accuracy: 0.7462\n",
      "Epoch 6/10\n",
      "810/810 [==============================] - 1s 2ms/step - loss: 0.5635 - accuracy: 0.7493 - val_loss: 0.5665 - val_accuracy: 0.7462\n",
      "Epoch 7/10\n",
      "810/810 [==============================] - 1s 2ms/step - loss: 0.5633 - accuracy: 0.7493 - val_loss: 0.5665 - val_accuracy: 0.7462\n",
      "Epoch 8/10\n",
      "810/810 [==============================] - 1s 2ms/step - loss: 0.5633 - accuracy: 0.7493 - val_loss: 0.5664 - val_accuracy: 0.7462\n",
      "Epoch 9/10\n",
      "810/810 [==============================] - 1s 2ms/step - loss: 0.5632 - accuracy: 0.7493 - val_loss: 0.5665 - val_accuracy: 0.7462\n",
      "Epoch 10/10\n",
      "810/810 [==============================] - 1s 2ms/step - loss: 0.5631 - accuracy: 0.7493 - val_loss: 0.5665 - val_accuracy: 0.7462\n"
     ]
    },
    {
     "data": {
      "image/png": "[encoded data removed]",
      "text/plain": [
       "<Figure size 432x288 with 1 Axes>"
      ]
     },
     "metadata": {
      "needs_background": "light"
     },
     "output_type": "display_data"
    }
   ],
   "source": [
    "def setup_FCN_1():\n",
    "\n",
    "    # Swquential Model is used.\n",
    "    model = tf.keras.Sequential()\n",
    "\n",
    "    # Consist of 4 Layers of nodes.\n",
    "    # First layer consist of 2 nodes, to receive 2 inputs\n",
    "    # Second layer consist of 12 nodes.\n",
    "    # Third layer consist of  12 nodes.\n",
    "    # Last Layer consist of 1 node, to output either 0 or 1\n",
    "    # We are using binary_crossentropy as the loss function, hence the last layer is setup that way.\n",
    "\n",
    "    model.add(tf.keras.layers.Dense(2, input_shape=(None, 2), activation='relu'))\n",
    "    model.add(tf.keras.layers.Dropout(0.25))\n",
    "    model.add(tf.keras.layers.Dense(4, activation='sigmoid'))\n",
    "    model.add(tf.keras.layers.Dropout(0.25))\n",
    "    model.add(tf.keras.layers.Dense(4, activation='sigmoid'))\n",
    "    model.add(tf.keras.layers.Dropout(0.25))\n",
    "    model.add(tf.keras.layers.Dense(4, activation='sigmoid'))\n",
    "    model.add(tf.keras.layers.Dropout(0.5))\n",
    "    model.add(tf.keras.layers.Dense(1, activation='sigmoid'))\n",
    "\n",
    "    # Compile the model using binary_crossentropy.\n",
    "    model.compile(optimizer='adam',\n",
    "                 loss='binary_crossentropy',\n",
    "                 metrics=['accuracy'])\n",
    "\n",
    "    # return the model after compilation\n",
    "    return model\n",
    "\n",
    "# Create and setting up the model using setup_FCN()\n",
    "model = setup_FCN_1()\n",
    "\n",
    "# Use model.fit to train it. As we have a very large dataset, we do not have to train it multiple times.\n",
    "history = model.fit(pd_train_data, pd_train_data_target, validation_data=(pd_test_data, pd_test_data_target), epochs=10, batch_size=100)\n",
    "model.save('models/small_Q1_FCN1.h5')\n",
    "\n",
    "plot_history(history)"
   ]
  },
  {
   "cell_type": "code",
   "execution_count": 3,
   "metadata": {},
   "outputs": [
    {
     "name": "stdout",
     "output_type": "stream",
     "text": [
      "Epoch 1/10\n",
      "WARNING:tensorflow:Model was constructed with shape (None, None, 2) for input KerasTensor(type_spec=TensorSpec(shape=(None, None, 2), dtype=tf.float32, name='dense_5_input'), name='dense_5_input', description=\"created by layer 'dense_5_input'\"), but it was called on an input with incompatible shape (100, 2).\n",
      "WARNING:tensorflow:Model was constructed with shape (None, None, 2) for input KerasTensor(type_spec=TensorSpec(shape=(None, None, 2), dtype=tf.float32, name='dense_5_input'), name='dense_5_input', description=\"created by layer 'dense_5_input'\"), but it was called on an input with incompatible shape (100, 2).\n",
      "808/810 [============================>.] - ETA: 0s - loss: 0.5899 - accuracy: 0.7314WARNING:tensorflow:Model was constructed with shape (None, None, 2) for input KerasTensor(type_spec=TensorSpec(shape=(None, None, 2), dtype=tf.float32, name='dense_5_input'), name='dense_5_input', description=\"created by layer 'dense_5_input'\"), but it was called on an input with incompatible shape (100, 2).\n",
      "810/810 [==============================] - 2s 2ms/step - loss: 0.5899 - accuracy: 0.7315 - val_loss: 0.5673 - val_accuracy: 0.7462\n",
      "Epoch 2/10\n",
      "810/810 [==============================] - 1s 2ms/step - loss: 0.5711 - accuracy: 0.7493 - val_loss: 0.5666 - val_accuracy: 0.7462\n",
      "Epoch 3/10\n",
      "810/810 [==============================] - 1s 2ms/step - loss: 0.5667 - accuracy: 0.7493 - val_loss: 0.5666 - val_accuracy: 0.7462\n",
      "Epoch 4/10\n",
      "810/810 [==============================] - 1s 2ms/step - loss: 0.5647 - accuracy: 0.7493 - val_loss: 0.5664 - val_accuracy: 0.7462\n",
      "Epoch 5/10\n",
      "810/810 [==============================] - 1s 2ms/step - loss: 0.5642 - accuracy: 0.7493 - val_loss: 0.5665 - val_accuracy: 0.7462\n",
      "Epoch 6/10\n",
      "810/810 [==============================] - 1s 2ms/step - loss: 0.5634 - accuracy: 0.7493 - val_loss: 0.5664 - val_accuracy: 0.7462\n",
      "Epoch 7/10\n",
      "810/810 [==============================] - 1s 2ms/step - loss: 0.5634 - accuracy: 0.7493 - val_loss: 0.5666 - val_accuracy: 0.7462\n",
      "Epoch 8/10\n",
      "810/810 [==============================] - 1s 2ms/step - loss: 0.5632 - accuracy: 0.7493 - val_loss: 0.5665 - val_accuracy: 0.7462\n",
      "Epoch 9/10\n",
      "810/810 [==============================] - 1s 2ms/step - loss: 0.5632 - accuracy: 0.7493 - val_loss: 0.5665 - val_accuracy: 0.7462\n",
      "Epoch 10/10\n",
      "810/810 [==============================] - 1s 2ms/step - loss: 0.5632 - accuracy: 0.7493 - val_loss: 0.5665 - val_accuracy: 0.7462\n"
     ]
    },
    {
     "data": {
      "image/png": "[encoded data removed]",
      "text/plain": [
       "<Figure size 432x288 with 1 Axes>"
      ]
     },
     "metadata": {
      "needs_background": "light"
     },
     "output_type": "display_data"
    }
   ],
   "source": [
    "def setup_FCN_2():\n",
    "\n",
    "    # Swquential Model is used.\n",
    "    model = tf.keras.Sequential()\n",
    "\n",
    "    # Consist of 4 Layers of nodes.\n",
    "    # First layer consist of 2 nodes, to receive 2 inputs\n",
    "    # Second layer consist of 12 nodes.\n",
    "    # Third layer consist of  12 nodes.\n",
    "    # Last Layer consist of 1 node, to output either 0 or 1\n",
    "    # We are using binary_crossentropy as the loss function, hence the last layer is setup that way.\n",
    "\n",
    "    model.add(tf.keras.layers.Dense(2, input_shape=(None, 2), activation='relu'))\n",
    "    model.add(tf.keras.layers.Dropout(0.25))\n",
    "    model.add(tf.keras.layers.Dense(8, activation='sigmoid'))\n",
    "    model.add(tf.keras.layers.Dropout(0.25))\n",
    "    model.add(tf.keras.layers.Dense(8, activation='sigmoid'))\n",
    "    model.add(tf.keras.layers.Dropout(0.25))\n",
    "    model.add(tf.keras.layers.Dense(8, activation='sigmoid'))\n",
    "    model.add(tf.keras.layers.Dropout(0.5))\n",
    "    model.add(tf.keras.layers.Dense(1, activation='sigmoid'))\n",
    "\n",
    "    # Compile the model using binary_crossentropy.\n",
    "    model.compile(optimizer='adam',\n",
    "                 loss='binary_crossentropy',\n",
    "                 metrics=['accuracy'])\n",
    "\n",
    "    # return the model after compilation\n",
    "    return model\n",
    "\n",
    "# Create and setting up the model using setup_FCN()\n",
    "model = setup_FCN_2()\n",
    "\n",
    "# Use model.fit to train it. As we have a very large dataset, we do not have to train it multiple times.\n",
    "history = model.fit(pd_train_data, pd_train_data_target, validation_data=(pd_test_data, pd_test_data_target), epochs=10, batch_size=100)\n",
    "model.save('models/small_Q1_FCN2.h5')\n",
    "\n",
    "plot_history(history)"
   ]
  },
  {
   "cell_type": "code",
   "execution_count": 4,
   "metadata": {},
   "outputs": [
    {
     "name": "stdout",
     "output_type": "stream",
     "text": [
      "Epoch 1/10\n",
      "WARNING:tensorflow:Model was constructed with shape (None, None, 2) for input KerasTensor(type_spec=TensorSpec(shape=(None, None, 2), dtype=tf.float32, name='dense_10_input'), name='dense_10_input', description=\"created by layer 'dense_10_input'\"), but it was called on an input with incompatible shape (100, 2).\n",
      "WARNING:tensorflow:Model was constructed with shape (None, None, 2) for input KerasTensor(type_spec=TensorSpec(shape=(None, None, 2), dtype=tf.float32, name='dense_10_input'), name='dense_10_input', description=\"created by layer 'dense_10_input'\"), but it was called on an input with incompatible shape (100, 2).\n",
      "793/810 [============================>.] - ETA: 0s - loss: 0.6119 - accuracy: 0.7141WARNING:tensorflow:Model was constructed with shape (None, None, 2) for input KerasTensor(type_spec=TensorSpec(shape=(None, None, 2), dtype=tf.float32, name='dense_10_input'), name='dense_10_input', description=\"created by layer 'dense_10_input'\"), but it was called on an input with incompatible shape (100, 2).\n",
      "810/810 [==============================] - 2s 2ms/step - loss: 0.6115 - accuracy: 0.7145 - val_loss: 0.5668 - val_accuracy: 0.7462\n",
      "Epoch 2/10\n",
      "810/810 [==============================] - 1s 2ms/step - loss: 0.5713 - accuracy: 0.7491 - val_loss: 0.5666 - val_accuracy: 0.7462\n",
      "Epoch 3/10\n",
      "810/810 [==============================] - 1s 2ms/step - loss: 0.5670 - accuracy: 0.7493 - val_loss: 0.5664 - val_accuracy: 0.7462\n",
      "Epoch 4/10\n",
      "810/810 [==============================] - 1s 2ms/step - loss: 0.5654 - accuracy: 0.7493 - val_loss: 0.5665 - val_accuracy: 0.7462\n",
      "Epoch 5/10\n",
      "810/810 [==============================] - 1s 2ms/step - loss: 0.5645 - accuracy: 0.7493 - val_loss: 0.5666 - val_accuracy: 0.7462\n",
      "Epoch 6/10\n",
      "810/810 [==============================] - 1s 2ms/step - loss: 0.5642 - accuracy: 0.7493 - val_loss: 0.5665 - val_accuracy: 0.7462\n",
      "Epoch 7/10\n",
      "810/810 [==============================] - 1s 2ms/step - loss: 0.5642 - accuracy: 0.7493 - val_loss: 0.5669 - val_accuracy: 0.7462\n",
      "Epoch 8/10\n",
      "810/810 [==============================] - 1s 2ms/step - loss: 0.5635 - accuracy: 0.7493 - val_loss: 0.5665 - val_accuracy: 0.7462\n",
      "Epoch 9/10\n",
      "810/810 [==============================] - 1s 2ms/step - loss: 0.5637 - accuracy: 0.7493 - val_loss: 0.5665 - val_accuracy: 0.7462\n",
      "Epoch 10/10\n",
      "810/810 [==============================] - 1s 2ms/step - loss: 0.5636 - accuracy: 0.7493 - val_loss: 0.5665 - val_accuracy: 0.7462\n"
     ]
    },
    {
     "data": {
      "image/png": "[encoded data removed]",
      "text/plain": [
       "<Figure size 432x288 with 1 Axes>"
      ]
     },
     "metadata": {
      "needs_background": "light"
     },
     "output_type": "display_data"
    }
   ],
   "source": [
    "def setup_FCN_3():\n",
    "\n",
    "    # Swquential Model is used.\n",
    "    model = tf.keras.Sequential()\n",
    "\n",
    "    # Consist of 4 Layers of nodes.\n",
    "    # First layer consist of 2 nodes, to receive 2 inputs\n",
    "    # Second layer consist of 12 nodes.\n",
    "    # Third layer consist of  12 nodes.\n",
    "    # Last Layer consist of 1 node, to output either 0 or 1\n",
    "    # We are using binary_crossentropy as the loss function, hence the last layer is setup that way.\n",
    "\n",
    "    model.add(tf.keras.layers.Dense(2, input_shape=(None, 2), activation='relu'))\n",
    "    model.add(tf.keras.layers.Dropout(0.25))\n",
    "    model.add(tf.keras.layers.Dense(32, activation='sigmoid'))\n",
    "    model.add(tf.keras.layers.Dropout(0.5))\n",
    "    model.add(tf.keras.layers.Dense(1, activation='sigmoid'))\n",
    "\n",
    "    # Compile the model using binary_crossentropy.\n",
    "    model.compile(optimizer='adam',\n",
    "                 loss='binary_crossentropy',\n",
    "                 metrics=['accuracy'])\n",
    "\n",
    "    # return the model after compilation\n",
    "    return model\n",
    "\n",
    "# Create and setting up the model using setup_FCN()\n",
    "model = setup_FCN_3()\n",
    "\n",
    "# Use model.fit to train it. As we have a very large dataset, we do not have to train it multiple times.\n",
    "history = model.fit(pd_train_data, pd_train_data_target, validation_data=(pd_test_data, pd_test_data_target), epochs=10, batch_size=100)\n",
    "model.save('models/small_Q1_FCN3.h5')\n",
    "\n",
    "plot_history(history)"
   ]
  },
  {
   "cell_type": "code",
   "execution_count": 5,
   "metadata": {},
   "outputs": [
    {
     "name": "stdout",
     "output_type": "stream",
     "text": [
      "Epoch 1/10\n",
      "WARNING:tensorflow:Model was constructed with shape (None, None, 2) for input KerasTensor(type_spec=TensorSpec(shape=(None, None, 2), dtype=tf.float32, name='dense_13_input'), name='dense_13_input', description=\"created by layer 'dense_13_input'\"), but it was called on an input with incompatible shape (100, 2).\n",
      "WARNING:tensorflow:Model was constructed with shape (None, None, 2) for input KerasTensor(type_spec=TensorSpec(shape=(None, None, 2), dtype=tf.float32, name='dense_13_input'), name='dense_13_input', description=\"created by layer 'dense_13_input'\"), but it was called on an input with incompatible shape (100, 2).\n",
      "807/810 [============================>.] - ETA: 0s - loss: 0.6535 - accuracy: 0.6670WARNING:tensorflow:Model was constructed with shape (None, None, 2) for input KerasTensor(type_spec=TensorSpec(shape=(None, None, 2), dtype=tf.float32, name='dense_13_input'), name='dense_13_input', description=\"created by layer 'dense_13_input'\"), but it was called on an input with incompatible shape (100, 2).\n",
      "810/810 [==============================] - 2s 2ms/step - loss: 0.6532 - accuracy: 0.6672 - val_loss: 0.5665 - val_accuracy: 0.7462\n",
      "Epoch 2/10\n",
      "810/810 [==============================] - 1s 2ms/step - loss: 0.5775 - accuracy: 0.7485 - val_loss: 0.5666 - val_accuracy: 0.7462\n",
      "Epoch 3/10\n",
      "810/810 [==============================] - 1s 2ms/step - loss: 0.5692 - accuracy: 0.7493 - val_loss: 0.5666 - val_accuracy: 0.7462\n",
      "Epoch 4/10\n",
      "810/810 [==============================] - 1s 2ms/step - loss: 0.5657 - accuracy: 0.7493 - val_loss: 0.5665 - val_accuracy: 0.7462\n",
      "Epoch 5/10\n",
      "810/810 [==============================] - 1s 2ms/step - loss: 0.5648 - accuracy: 0.7493 - val_loss: 0.5664 - val_accuracy: 0.7462\n",
      "Epoch 6/10\n",
      "810/810 [==============================] - 1s 2ms/step - loss: 0.5643 - accuracy: 0.7493 - val_loss: 0.5665 - val_accuracy: 0.7462\n",
      "Epoch 7/10\n",
      "810/810 [==============================] - 1s 2ms/step - loss: 0.5636 - accuracy: 0.7493 - val_loss: 0.5664 - val_accuracy: 0.7462\n",
      "Epoch 8/10\n",
      "810/810 [==============================] - 1s 2ms/step - loss: 0.5634 - accuracy: 0.7493 - val_loss: 0.5665 - val_accuracy: 0.7462\n",
      "Epoch 9/10\n",
      "810/810 [==============================] - 1s 2ms/step - loss: 0.5633 - accuracy: 0.7493 - val_loss: 0.5665 - val_accuracy: 0.7462\n",
      "Epoch 10/10\n",
      "810/810 [==============================] - 1s 2ms/step - loss: 0.5632 - accuracy: 0.7493 - val_loss: 0.5665 - val_accuracy: 0.7462\n"
     ]
    },
    {
     "data": {
      "image/png": "[encoded data removed]",
      "text/plain": [
       "<Figure size 432x288 with 1 Axes>"
      ]
     },
     "metadata": {
      "needs_background": "light"
     },
     "output_type": "display_data"
    }
   ],
   "source": [
    "def setup_FCN_4():\n",
    "\n",
    "    # Swquential Model is used.\n",
    "    model = tf.keras.Sequential()\n",
    "\n",
    "    # Consist of 4 Layers of nodes.\n",
    "    # First layer consist of 2 nodes, to receive 2 inputs\n",
    "    # Second layer consist of 12 nodes.\n",
    "    # Third layer consist of  12 nodes.\n",
    "    # Last Layer consist of 1 node, to output either 0 or 1\n",
    "    # We are using binary_crossentropy as the loss function, hence the last layer is setup that way.\n",
    "\n",
    "    model.add(tf.keras.layers.Dense(2, input_shape=(None, 2), activation='relu'))\n",
    "    model.add(tf.keras.layers.Dropout(0.25))\n",
    "    model.add(tf.keras.layers.Dense(16, activation='sigmoid'))\n",
    "    model.add(tf.keras.layers.Dropout(0.25))\n",
    "    model.add(tf.keras.layers.Dense(16, activation='sigmoid'))\n",
    "    model.add(tf.keras.layers.Dropout(0.5))\n",
    "    model.add(tf.keras.layers.Dense(1, activation='sigmoid'))\n",
    "\n",
    "    # Compile the model using binary_crossentropy.\n",
    "    model.compile(optimizer='adam',\n",
    "                 loss='binary_crossentropy',\n",
    "                 metrics=['accuracy'])\n",
    "\n",
    "    # return the model after compilation\n",
    "    return model\n",
    "\n",
    "# Create and setting up the model using setup_FCN()\n",
    "model = setup_FCN_4()\n",
    "\n",
    "# Use model.fit to train it. As we have a very large dataset, we do not have to train it multiple times.\n",
    "history = model.fit(pd_train_data, pd_train_data_target, validation_data=(pd_test_data, pd_test_data_target), epochs=10, batch_size=100)\n",
    "model.save('models/small_Q1_FCN4.h5')\n",
    "\n",
    "plot_history(history)"
   ]
  },
  {
   "cell_type": "code",
   "execution_count": 6,
   "metadata": {},
   "outputs": [
    {
     "name": "stdout",
     "output_type": "stream",
     "text": [
      "WARNING:tensorflow:Model was constructed with shape (None, None, 2) for input KerasTensor(type_spec=TensorSpec(shape=(None, None, 2), dtype=tf.float32, name='dense_13_input'), name='dense_13_input', description=\"created by layer 'dense_13_input'\"), but it was called on an input with incompatible shape (None, 2).\n",
      "[[0.7516601]]\n"
     ]
    }
   ],
   "source": [
    "predict = model.predict(np.array([[65000, 0]]))\n",
    "print(predict)"
   ]
  }
 ],
 "metadata": {
  "kernelspec": {
   "display_name": "Python 3.8.10 64-bit",
   "language": "python",
   "name": "python3"
  },
  "language_info": {
   "codemirror_mode": {
    "name": "ipython",
    "version": 3
   },
   "file_extension": ".py",
   "mimetype": "text/x-python",
   "name": "python",
   "nbconvert_exporter": "python",
   "pygments_lexer": "ipython3",
   "version": "3.8.10"
  },
  "orig_nbformat": 4,
  "vscode": {
   "interpreter": {
    "hash": "916dbcbb3f70747c44a77c7bcd40155683ae19c65e1c03b4aa3499c5328201f1"
   }
  }
 },
 "nbformat": 4,
 "nbformat_minor": 2
}
